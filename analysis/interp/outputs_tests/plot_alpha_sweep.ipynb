{
 "cells": [
  {
   "cell_type": "markdown",
   "metadata": {},
   "source": [
    "# Alpha Sweep: Physical Properties"
   ]
  },
  {
   "cell_type": "code",
   "execution_count": null,
   "metadata": {},
   "outputs": [],
   "source": [
    "import pandas as pd\n",
    "import matplotlib.pyplot as plt\n",
    "\n",
    "csv_path = \"analysis/interp/outputs_tests/interp_run_val.jsonl.values.csv\"\n",
    "df = pd.read_csv(csv_path)\n",
    "\n",
    "# ensure numeric columns\n",
    "numeric_cols = [\n",
    "    \"alpha\",\n",
    "    \"inferred_teff\",\n",
    "    \"inferred_logg\",\n",
    "    \"inferred_feh\",\n",
    "    \"star_a_teff\",\n",
    "    \"star_a_logg\",\n",
    "    \"star_a_feh\",\n",
    "    \"star_b_teff\",\n",
    "    \"star_b_logg\",\n",
    "    \"star_b_feh\",\n",
    "]\n",
    "df[numeric_cols] = df[numeric_cols].apply(pd.to_numeric, errors=\"coerce\")\n",
    "\n",
    "properties = [\n",
    "    (\"Teff\", \"inferred_teff\", \"star_a_teff\", \"star_b_teff\", \"Temperature [K]\"),\n",
    "    (\"log g\", \"inferred_logg\", \"star_a_logg\", \"star_b_logg\", \"log g\"),\n",
    "    (\"[Fe/H]\", \"inferred_feh\", \"star_a_feh\", \"star_b_feh\", \"[Fe/H]\")\n",
    "]\n",
    "\n",
    "fig, axes = plt.subplots(len(properties), 1, figsize=(10, 18), sharex=True)\n",
    "\n",
    "for ax, (label, inferred_col, star_a_col, star_b_col, ylabel) in zip(axes, properties):\n",
    "    ax.plot(df[\"alpha\"], df[inferred_col], marker=\"o\", linestyle=\"-\", label=f\"Inferred {label}\")\n",
    "    ax.hlines(df[star_a_col].iloc[0], df[\"alpha\"].min(), df[\"alpha\"].max(), colors=\"C1\", linestyles=\"--\", label=f\"Star A {label}\")\n",
    "    ax.hlines(df[star_b_col].iloc[0], df[\"alpha\"].min(), df[\"alpha\"].max(), colors=\"C2\", linestyles=\":\", label=f\"Star B {label}\")\n",
    "    ax.set_ylabel(ylabel, fontsize=20)\n",
    "    ax.tick_params(axis=\"both\", labelsize=20)\n",
    "    ax.grid(True, which=\"both\", linestyle=\"--\", alpha=0.5)\n",
    "    ax.legend(fontsize=16)\n",
    "\n",
    "axes[-1].set_xlabel(\"Alpha\", fontsize=20)\n",
    "plt.tight_layout()\n",
    "plt.show()"
   ]
  },
  {
   "cell_type": "code",
   "execution_count": null,
   "metadata": {},
   "outputs": [],
   "source": [
    "fig, ax = plt.subplots(figsize=(10, 8))\n",
    "ax.plot(df['inferred_logg'], df['inferred_teff'], marker='o', linestyle='-', label='Interpolated trajectory')\n",
    "ax.scatter([df['star_a_logg'].iloc[0]], [df['star_a_teff'].iloc[0]], color='C1', s=150, marker='s', label='Star A')\n",
    "ax.scatter([df['star_b_logg'].iloc[0]], [df['star_b_teff'].iloc[0]], color='C2', s=150, marker='^', label='Star B')\n",
    "ax.set_xlabel('log g', fontsize=20)\n",
    "ax.set_ylabel('Teff [K]', fontsize=20)\n",
    "ax.tick_params(axis='both', labelsize=20)\n",
    "ax.invert_yaxis()\n",
    "ax.grid(True, which='both', linestyle='--', alpha=0.5)\n",
    "ax.legend(fontsize=16)\n",
    "plt.tight_layout()\n",
    "plt.show()"
   ]
  }
 ],
 "metadata": {
  "kernelspec": {
   "display_name": "Python 3",
   "language": "python",
   "name": "python3"
  },
  "language_info": {
   "name": "python",
   "version": ""
  }
 },
 "nbformat": 4,
 "nbformat_minor": 5
}
